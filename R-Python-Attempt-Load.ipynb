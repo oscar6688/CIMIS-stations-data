{
 "cells": [
  {
   "cell_type": "code",
   "execution_count": 3,
   "metadata": {
    "vscode": {
     "languageId": "r"
    }
   },
   "outputs": [
    {
     "name": "stdout",
     "output_type": "stream",
     "text": [
      "\n",
      "The downloaded binary packages are in\n",
      "\t/var/folders/9p/903r2xb14n1g60nzc3n_qdfw0000gn/T//Rtmp6dlYXF/downloaded_packages\n"
     ]
    }
   ],
   "source": [
    "# install.packages('cimir')"
   ]
  },
  {
   "cell_type": "code",
   "execution_count": 14,
   "metadata": {
    "vscode": {
     "languageId": "r"
    }
   },
   "outputs": [],
   "source": [
    "library(cimir)\n",
    "set_key('c7c54eaf-b82a-4cfd-8934-8448164a6d9a')"
   ]
  },
  {
   "cell_type": "code",
   "execution_count": 36,
   "metadata": {
    "vscode": {
     "languageId": "r"
    }
   },
   "outputs": [
    {
     "data": {
      "text/html": [
       "<table class=\"dataframe\">\n",
       "<caption>A data.frame: 14 x 4</caption>\n",
       "<thead>\n",
       "\t<tr><th scope=col>Name</th><th scope=col>Data Item</th><th scope=col>Class</th><th scope=col>Data Provider Support</th></tr>\n",
       "\t<tr><th scope=col>&lt;chr&gt;</th><th scope=col>&lt;chr&gt;</th><th scope=col>&lt;chr&gt;</th><th scope=col>&lt;chr&gt;</th></tr>\n",
       "</thead>\n",
       "<tbody>\n",
       "\t<tr><td>Air Temperature  </td><td>hly-air-tmp </td><td>Hourly</td><td>WSN</td></tr>\n",
       "\t<tr><td>Dew Point        </td><td>hly-dew-pnt </td><td>Hourly</td><td>WSN</td></tr>\n",
       "\t<tr><td>CIMIS ETo        </td><td>hly-eto     </td><td>Hourly</td><td>WSN</td></tr>\n",
       "\t<tr><td>Net Radiation    </td><td>hly-net-rad </td><td>Hourly</td><td>WSN</td></tr>\n",
       "\t<tr><td>ASCE ETo         </td><td>hly-asce-eto</td><td>Hourly</td><td>WSN</td></tr>\n",
       "\t<tr><td>ASCE ETr         </td><td>hly-asce-etr</td><td>Hourly</td><td>WSN</td></tr>\n",
       "\t<tr><td>Precipitation    </td><td>hly-precip  </td><td>Hourly</td><td>WSN</td></tr>\n",
       "\t<tr><td>Relative Humidity</td><td>hly-rel-hum </td><td>Hourly</td><td>WSN</td></tr>\n",
       "\t<tr><td>Resultant Wind   </td><td>hly-res-wind</td><td>Hourly</td><td>WSN</td></tr>\n",
       "\t<tr><td>Soil Temperature </td><td>hly-soil-tmp</td><td>Hourly</td><td>WSN</td></tr>\n",
       "\t<tr><td>Solar Radiation  </td><td>hly-sol-rad </td><td>Hourly</td><td>WSN</td></tr>\n",
       "\t<tr><td>Vapor Pressure   </td><td>hly-vap-pres</td><td>Hourly</td><td>WSN</td></tr>\n",
       "\t<tr><td>Wind Direction   </td><td>hly-wind-dir</td><td>Hourly</td><td>WSN</td></tr>\n",
       "\t<tr><td>Wind Speed       </td><td>hly-wind-spd</td><td>Hourly</td><td>WSN</td></tr>\n",
       "</tbody>\n",
       "</table>\n"
      ],
      "text/latex": [
       "A data.frame: 14 x 4\n",
       "\\begin{tabular}{llll}\n",
       " Name & Data Item & Class & Data Provider Support\\\\\n",
       " <chr> & <chr> & <chr> & <chr>\\\\\n",
       "\\hline\n",
       "\t Air Temperature   & hly-air-tmp  & Hourly & WSN\\\\\n",
       "\t Dew Point         & hly-dew-pnt  & Hourly & WSN\\\\\n",
       "\t CIMIS ETo         & hly-eto      & Hourly & WSN\\\\\n",
       "\t Net Radiation     & hly-net-rad  & Hourly & WSN\\\\\n",
       "\t ASCE ETo          & hly-asce-eto & Hourly & WSN\\\\\n",
       "\t ASCE ETr          & hly-asce-etr & Hourly & WSN\\\\\n",
       "\t Precipitation     & hly-precip   & Hourly & WSN\\\\\n",
       "\t Relative Humidity & hly-rel-hum  & Hourly & WSN\\\\\n",
       "\t Resultant Wind    & hly-res-wind & Hourly & WSN\\\\\n",
       "\t Soil Temperature  & hly-soil-tmp & Hourly & WSN\\\\\n",
       "\t Solar Radiation   & hly-sol-rad  & Hourly & WSN\\\\\n",
       "\t Vapor Pressure    & hly-vap-pres & Hourly & WSN\\\\\n",
       "\t Wind Direction    & hly-wind-dir & Hourly & WSN\\\\\n",
       "\t Wind Speed        & hly-wind-spd & Hourly & WSN\\\\\n",
       "\\end{tabular}\n"
      ],
      "text/markdown": [
       "\n",
       "A data.frame: 14 x 4\n",
       "\n",
       "| Name &lt;chr&gt; | Data Item &lt;chr&gt; | Class &lt;chr&gt; | Data Provider Support &lt;chr&gt; |\n",
       "|---|---|---|---|\n",
       "| Air Temperature   | hly-air-tmp  | Hourly | WSN |\n",
       "| Dew Point         | hly-dew-pnt  | Hourly | WSN |\n",
       "| CIMIS ETo         | hly-eto      | Hourly | WSN |\n",
       "| Net Radiation     | hly-net-rad  | Hourly | WSN |\n",
       "| ASCE ETo          | hly-asce-eto | Hourly | WSN |\n",
       "| ASCE ETr          | hly-asce-etr | Hourly | WSN |\n",
       "| Precipitation     | hly-precip   | Hourly | WSN |\n",
       "| Relative Humidity | hly-rel-hum  | Hourly | WSN |\n",
       "| Resultant Wind    | hly-res-wind | Hourly | WSN |\n",
       "| Soil Temperature  | hly-soil-tmp | Hourly | WSN |\n",
       "| Solar Radiation   | hly-sol-rad  | Hourly | WSN |\n",
       "| Vapor Pressure    | hly-vap-pres | Hourly | WSN |\n",
       "| Wind Direction    | hly-wind-dir | Hourly | WSN |\n",
       "| Wind Speed        | hly-wind-spd | Hourly | WSN |\n",
       "\n"
      ],
      "text/plain": [
       "   Name              Data Item    Class  Data Provider Support\n",
       "1  Air Temperature   hly-air-tmp  Hourly WSN                  \n",
       "2  Dew Point         hly-dew-pnt  Hourly WSN                  \n",
       "3  CIMIS ETo         hly-eto      Hourly WSN                  \n",
       "4  Net Radiation     hly-net-rad  Hourly WSN                  \n",
       "5  ASCE ETo          hly-asce-eto Hourly WSN                  \n",
       "6  ASCE ETr          hly-asce-etr Hourly WSN                  \n",
       "7  Precipitation     hly-precip   Hourly WSN                  \n",
       "8  Relative Humidity hly-rel-hum  Hourly WSN                  \n",
       "9  Resultant Wind    hly-res-wind Hourly WSN                  \n",
       "10 Soil Temperature  hly-soil-tmp Hourly WSN                  \n",
       "11 Solar Radiation   hly-sol-rad  Hourly WSN                  \n",
       "12 Vapor Pressure    hly-vap-pres Hourly WSN                  \n",
       "13 Wind Direction    hly-wind-dir Hourly WSN                  \n",
       "14 Wind Speed        hly-wind-spd Hourly WSN                  "
      ]
     },
     "metadata": {},
     "output_type": "display_data"
    }
   ],
   "source": [
    "data_item = cimis_items(type = c(\"Hourly\"))\n",
    "data_item"
   ]
  },
  {
   "cell_type": "code",
   "execution_count": 39,
   "metadata": {
    "vscode": {
     "languageId": "r"
    }
   },
   "outputs": [
    {
     "data": {
      "text/html": [
       "<style>\n",
       ".list-inline {list-style: none; margin:0; padding: 0}\n",
       ".list-inline>li {display: inline-block}\n",
       ".list-inline>li:not(:last-child)::after {content: \"\\00b7\"; padding: 0 .5ex}\n",
       "</style>\n",
       "<ol class=list-inline><li>'hly-air-tmp'</li><li>'hly-dew-pnt'</li><li>'hly-eto'</li><li>'hly-net-rad'</li><li>'hly-asce-eto'</li><li>'hly-asce-etr'</li><li>'hly-precip'</li><li>'hly-rel-hum'</li><li>'hly-res-wind'</li><li>'hly-soil-tmp'</li><li>'hly-sol-rad'</li><li>'hly-vap-pres'</li><li>'hly-wind-dir'</li><li>'hly-wind-spd'</li></ol>\n"
      ],
      "text/latex": [
       "\\begin{enumerate*}\n",
       "\\item 'hly-air-tmp'\n",
       "\\item 'hly-dew-pnt'\n",
       "\\item 'hly-eto'\n",
       "\\item 'hly-net-rad'\n",
       "\\item 'hly-asce-eto'\n",
       "\\item 'hly-asce-etr'\n",
       "\\item 'hly-precip'\n",
       "\\item 'hly-rel-hum'\n",
       "\\item 'hly-res-wind'\n",
       "\\item 'hly-soil-tmp'\n",
       "\\item 'hly-sol-rad'\n",
       "\\item 'hly-vap-pres'\n",
       "\\item 'hly-wind-dir'\n",
       "\\item 'hly-wind-spd'\n",
       "\\end{enumerate*}\n"
      ],
      "text/markdown": [
       "1. 'hly-air-tmp'\n",
       "2. 'hly-dew-pnt'\n",
       "3. 'hly-eto'\n",
       "4. 'hly-net-rad'\n",
       "5. 'hly-asce-eto'\n",
       "6. 'hly-asce-etr'\n",
       "7. 'hly-precip'\n",
       "8. 'hly-rel-hum'\n",
       "9. 'hly-res-wind'\n",
       "10. 'hly-soil-tmp'\n",
       "11. 'hly-sol-rad'\n",
       "12. 'hly-vap-pres'\n",
       "13. 'hly-wind-dir'\n",
       "14. 'hly-wind-spd'\n",
       "\n",
       "\n"
      ],
      "text/plain": [
       " [1] \"hly-air-tmp\"  \"hly-dew-pnt\"  \"hly-eto\"      \"hly-net-rad\"  \"hly-asce-eto\"\n",
       " [6] \"hly-asce-etr\" \"hly-precip\"   \"hly-rel-hum\"  \"hly-res-wind\" \"hly-soil-tmp\"\n",
       "[11] \"hly-sol-rad\"  \"hly-vap-pres\" \"hly-wind-dir\" \"hly-wind-spd\""
      ]
     },
     "metadata": {},
     "output_type": "display_data"
    }
   ],
   "source": [
    "c(data_item[,2])"
   ]
  },
  {
   "cell_type": "code",
   "execution_count": 19,
   "metadata": {
    "vscode": {
     "languageId": "r"
    }
   },
   "outputs": [],
   "source": [
    "# cimis_station()"
   ]
  },
  {
   "cell_type": "code",
   "execution_count": 24,
   "metadata": {
    "vscode": {
     "languageId": "r"
    }
   },
   "outputs": [
    {
     "data": {
      "text/html": [
       "<table class=\"dataframe\">\n",
       "<caption>A data.frame: 15 x 4</caption>\n",
       "<thead>\n",
       "\t<tr><th scope=col>Flag</th><th scope=col>Class</th><th scope=col>Period</th><th scope=col>Description</th></tr>\n",
       "\t<tr><th scope=col>&lt;chr&gt;</th><th scope=col>&lt;chr&gt;</th><th scope=col>&lt;chr&gt;</th><th scope=col>&lt;chr&gt;</th></tr>\n",
       "</thead>\n",
       "<tbody>\n",
       "\t<tr><td>I</td><td>Severe     </td><td>Current</td><td>Data value has no meaning/ignore.                                                                                                                    </td></tr>\n",
       "\t<tr><td>M</td><td>Severe     </td><td>Current</td><td>Missing.                                                                                                                                             </td></tr>\n",
       "\t<tr><td>S</td><td>Severe     </td><td>Current</td><td>Sensor is not in service or data is out of sensor threshold.                                                                                         </td></tr>\n",
       "\t<tr><td>A</td><td>Informative</td><td>Current</td><td>Historical average.                                                                                                                                  </td></tr>\n",
       "\t<tr><td>E</td><td>Informative</td><td>Current</td><td>Historical average of one of the sensors used to calculate a parameter.                                                                              </td></tr>\n",
       "\t<tr><td>T</td><td>Informative</td><td>Current</td><td>Historical average of one of the sensors used to calculate a parameter.                                                                              </td></tr>\n",
       "\t<tr><td>H</td><td>Informative</td><td>Current</td><td>Daily data value flagged when corresponding hourly data is flagged M, Q, and S. This flag is not set when the corresponding hourly data is flagged N.</td></tr>\n",
       "\t<tr><td>J</td><td>Informative</td><td>Current</td><td>Monthly data value flagged when some daily data are missing.                                                                                         </td></tr>\n",
       "\t<tr><td>K</td><td>Informative</td><td>Current</td><td>Monthly data value flagged when daily data values are flagged.                                                                                       </td></tr>\n",
       "\t<tr><td>L</td><td>Informative</td><td>Current</td><td>Monthly data value flagged when some daily data are missing and some are flagged.                                                                    </td></tr>\n",
       "\t<tr><td>N</td><td>Informative</td><td>Current</td><td>Data value is not collected by this station.                                                                                                         </td></tr>\n",
       "\t<tr><td>P</td><td>Informative</td><td>Current</td><td>Quality test pending.                                                                                                                                </td></tr>\n",
       "\t<tr><td>Q</td><td>Informative</td><td>Current</td><td>All quality control could not be performed because a comparison sensor is severe. This flag is not set when the comparison sensor is flagged N.      </td></tr>\n",
       "\t<tr><td>R</td><td>Informative</td><td>Current</td><td>Data is far out of historical limits.                                                                                                                </td></tr>\n",
       "\t<tr><td>Y</td><td>Informative</td><td>Current</td><td>Data is moderately out of historical limits.                                                                                                         </td></tr>\n",
       "</tbody>\n",
       "</table>\n"
      ],
      "text/latex": [
       "A data.frame: 15 x 4\n",
       "\\begin{tabular}{llll}\n",
       " Flag & Class & Period & Description\\\\\n",
       " <chr> & <chr> & <chr> & <chr>\\\\\n",
       "\\hline\n",
       "\t I & Severe      & Current & Data value has no meaning/ignore.                                                                                                                    \\\\\n",
       "\t M & Severe      & Current & Missing.                                                                                                                                             \\\\\n",
       "\t S & Severe      & Current & Sensor is not in service or data is out of sensor threshold.                                                                                         \\\\\n",
       "\t A & Informative & Current & Historical average.                                                                                                                                  \\\\\n",
       "\t E & Informative & Current & Historical average of one of the sensors used to calculate a parameter.                                                                              \\\\\n",
       "\t T & Informative & Current & Historical average of one of the sensors used to calculate a parameter.                                                                              \\\\\n",
       "\t H & Informative & Current & Daily data value flagged when corresponding hourly data is flagged M, Q, and S. This flag is not set when the corresponding hourly data is flagged N.\\\\\n",
       "\t J & Informative & Current & Monthly data value flagged when some daily data are missing.                                                                                         \\\\\n",
       "\t K & Informative & Current & Monthly data value flagged when daily data values are flagged.                                                                                       \\\\\n",
       "\t L & Informative & Current & Monthly data value flagged when some daily data are missing and some are flagged.                                                                    \\\\\n",
       "\t N & Informative & Current & Data value is not collected by this station.                                                                                                         \\\\\n",
       "\t P & Informative & Current & Quality test pending.                                                                                                                                \\\\\n",
       "\t Q & Informative & Current & All quality control could not be performed because a comparison sensor is severe. This flag is not set when the comparison sensor is flagged N.      \\\\\n",
       "\t R & Informative & Current & Data is far out of historical limits.                                                                                                                \\\\\n",
       "\t Y & Informative & Current & Data is moderately out of historical limits.                                                                                                         \\\\\n",
       "\\end{tabular}\n"
      ],
      "text/markdown": [
       "\n",
       "A data.frame: 15 x 4\n",
       "\n",
       "| Flag &lt;chr&gt; | Class &lt;chr&gt; | Period &lt;chr&gt; | Description &lt;chr&gt; |\n",
       "|---|---|---|---|\n",
       "| I | Severe      | Current | Data value has no meaning/ignore.                                                                                                                     |\n",
       "| M | Severe      | Current | Missing.                                                                                                                                              |\n",
       "| S | Severe      | Current | Sensor is not in service or data is out of sensor threshold.                                                                                          |\n",
       "| A | Informative | Current | Historical average.                                                                                                                                   |\n",
       "| E | Informative | Current | Historical average of one of the sensors used to calculate a parameter.                                                                               |\n",
       "| T | Informative | Current | Historical average of one of the sensors used to calculate a parameter.                                                                               |\n",
       "| H | Informative | Current | Daily data value flagged when corresponding hourly data is flagged M, Q, and S. This flag is not set when the corresponding hourly data is flagged N. |\n",
       "| J | Informative | Current | Monthly data value flagged when some daily data are missing.                                                                                          |\n",
       "| K | Informative | Current | Monthly data value flagged when daily data values are flagged.                                                                                        |\n",
       "| L | Informative | Current | Monthly data value flagged when some daily data are missing and some are flagged.                                                                     |\n",
       "| N | Informative | Current | Data value is not collected by this station.                                                                                                          |\n",
       "| P | Informative | Current | Quality test pending.                                                                                                                                 |\n",
       "| Q | Informative | Current | All quality control could not be performed because a comparison sensor is severe. This flag is not set when the comparison sensor is flagged N.       |\n",
       "| R | Informative | Current | Data is far out of historical limits.                                                                                                                 |\n",
       "| Y | Informative | Current | Data is moderately out of historical limits.                                                                                                          |\n",
       "\n"
      ],
      "text/plain": [
       "   Flag Class       Period \n",
       "1  I    Severe      Current\n",
       "2  M    Severe      Current\n",
       "3  S    Severe      Current\n",
       "4  A    Informative Current\n",
       "5  E    Informative Current\n",
       "6  T    Informative Current\n",
       "7  H    Informative Current\n",
       "8  J    Informative Current\n",
       "9  K    Informative Current\n",
       "10 L    Informative Current\n",
       "11 N    Informative Current\n",
       "12 P    Informative Current\n",
       "13 Q    Informative Current\n",
       "14 R    Informative Current\n",
       "15 Y    Informative Current\n",
       "   Description                                                                                                                                          \n",
       "1  Data value has no meaning/ignore.                                                                                                                    \n",
       "2  Missing.                                                                                                                                             \n",
       "3  Sensor is not in service or data is out of sensor threshold.                                                                                         \n",
       "4  Historical average.                                                                                                                                  \n",
       "5  Historical average of one of the sensors used to calculate a parameter.                                                                              \n",
       "6  Historical average of one of the sensors used to calculate a parameter.                                                                              \n",
       "7  Daily data value flagged when corresponding hourly data is flagged M, Q, and S. This flag is not set when the corresponding hourly data is flagged N.\n",
       "8  Monthly data value flagged when some daily data are missing.                                                                                         \n",
       "9  Monthly data value flagged when daily data values are flagged.                                                                                       \n",
       "10 Monthly data value flagged when some daily data are missing and some are flagged.                                                                    \n",
       "11 Data value is not collected by this station.                                                                                                         \n",
       "12 Quality test pending.                                                                                                                                \n",
       "13 All quality control could not be performed because a comparison sensor is severe. This flag is not set when the comparison sensor is flagged N.      \n",
       "14 Data is far out of historical limits.                                                                                                                \n",
       "15 Data is moderately out of historical limits.                                                                                                         "
      ]
     },
     "metadata": {},
     "output_type": "display_data"
    }
   ],
   "source": [
    "cimis_flags()"
   ]
  },
  {
   "cell_type": "code",
   "execution_count": 20,
   "metadata": {
    "vscode": {
     "languageId": "r"
    }
   },
   "outputs": [
    {
     "name": "stdout",
     "output_type": "stream",
     "text": [
      "\u001b[90m# A tibble: 9 x 15\u001b[39m\n",
      "  StationNbr Name   City  Regio~1 County Conne~2 Disco~3 IsAct~4 IsEto~5 Eleva~6\n",
      "  \u001b[3m\u001b[90m<chr>\u001b[39m\u001b[23m      \u001b[3m\u001b[90m<chr>\u001b[39m\u001b[23m  \u001b[3m\u001b[90m<chr>\u001b[39m\u001b[23m \u001b[3m\u001b[90m<chr>\u001b[39m\u001b[23m   \u001b[3m\u001b[90m<chr>\u001b[39m\u001b[23m  \u001b[3m\u001b[90m<chr>\u001b[39m\u001b[23m   \u001b[3m\u001b[90m<chr>\u001b[39m\u001b[23m   \u001b[3m\u001b[90m<chr>\u001b[39m\u001b[23m   \u001b[3m\u001b[90m<chr>\u001b[39m\u001b[23m   \u001b[3m\u001b[90m<chr>\u001b[39m\u001b[23m  \n",
      "\u001b[90m1\u001b[39m 89         Salin~ Sali~ South ~ Monte~ 9/5/19~ 9/25/2~ False   True    120    \n",
      "\u001b[90m2\u001b[39m 89         Salin~ Sali~ South ~ Monte~ 9/5/19~ 9/25/2~ False   True    120    \n",
      "\u001b[90m3\u001b[39m 89         Salin~ Sali~ South ~ Monte~ 9/5/19~ 9/25/2~ False   True    120    \n",
      "\u001b[90m4\u001b[39m 89         Salin~ Sali~ South ~ Monte~ 9/5/19~ 9/25/2~ False   True    120    \n",
      "\u001b[90m5\u001b[39m 89         Salin~ Sali~ South ~ Monte~ 9/5/19~ 9/25/2~ False   True    120    \n",
      "\u001b[90m6\u001b[39m 89         Salin~ Sali~ South ~ Monte~ 9/5/19~ 9/25/2~ False   True    120    \n",
      "\u001b[90m7\u001b[39m 89         Salin~ Sali~ South ~ Monte~ 9/5/19~ 9/25/2~ False   True    120    \n",
      "\u001b[90m8\u001b[39m 89         Salin~ Sali~ South ~ Monte~ 9/5/19~ 9/25/2~ False   True    120    \n",
      "\u001b[90m9\u001b[39m 89         Salin~ Sali~ South ~ Monte~ 9/5/19~ 9/25/2~ False   True    120    \n",
      "\u001b[90m# ... with 5 more variables: GroundCover <chr>, HmsLatitude <chr>,\u001b[39m\n",
      "\u001b[90m#   HmsLongitude <chr>, ZipCodes <chr>, SitingDesc <chr>, and abbreviated\u001b[39m\n",
      "\u001b[90m#   variable names 1: RegionalOffice, 2: ConnectDate, 3: DisconnectDate,\u001b[39m\n",
      "\u001b[90m#   4: IsActive, 5: IsEtoStation, 6: Elevation\u001b[39m\n"
     ]
    }
   ],
   "source": [
    "station.meta = cimis_station(89)\n",
    "print(station.meta)"
   ]
  },
  {
   "cell_type": "code",
   "execution_count": 21,
   "metadata": {
    "vscode": {
     "languageId": "r"
    }
   },
   "outputs": [
    {
     "name": "stdout",
     "output_type": "stream",
     "text": [
      "\u001b[90m# A tibble: 9 x 15\u001b[39m\n",
      "  StationNbr Name   City  Regio~1 County Conne~2 Disco~3 IsAct~4 IsEto~5 Eleva~6\n",
      "  \u001b[3m\u001b[90m<chr>\u001b[39m\u001b[23m      \u001b[3m\u001b[90m<chr>\u001b[39m\u001b[23m  \u001b[3m\u001b[90m<chr>\u001b[39m\u001b[23m \u001b[3m\u001b[90m<chr>\u001b[39m\u001b[23m   \u001b[3m\u001b[90m<chr>\u001b[39m\u001b[23m  \u001b[3m\u001b[90m<chr>\u001b[39m\u001b[23m   \u001b[3m\u001b[90m<chr>\u001b[39m\u001b[23m   \u001b[3m\u001b[90m<chr>\u001b[39m\u001b[23m   \u001b[3m\u001b[90m<chr>\u001b[39m\u001b[23m   \u001b[3m\u001b[90m<chr>\u001b[39m\u001b[23m  \n",
      "\u001b[90m1\u001b[39m 214        Salin~ Sali~ South ~ Monte~ 5/17/2~ 12/31/~ True    True    153    \n",
      "\u001b[90m2\u001b[39m 214        Salin~ Sali~ South ~ Monte~ 5/17/2~ 12/31/~ True    True    153    \n",
      "\u001b[90m3\u001b[39m 214        Salin~ Sali~ South ~ Monte~ 5/17/2~ 12/31/~ True    True    153    \n",
      "\u001b[90m4\u001b[39m 214        Salin~ Sali~ South ~ Monte~ 5/17/2~ 12/31/~ True    True    153    \n",
      "\u001b[90m5\u001b[39m 214        Salin~ Sali~ South ~ Monte~ 5/17/2~ 12/31/~ True    True    153    \n",
      "\u001b[90m6\u001b[39m 214        Salin~ Sali~ South ~ Monte~ 5/17/2~ 12/31/~ True    True    153    \n",
      "\u001b[90m7\u001b[39m 214        Salin~ Sali~ South ~ Monte~ 5/17/2~ 12/31/~ True    True    153    \n",
      "\u001b[90m8\u001b[39m 214        Salin~ Sali~ South ~ Monte~ 5/17/2~ 12/31/~ True    True    153    \n",
      "\u001b[90m9\u001b[39m 214        Salin~ Sali~ South ~ Monte~ 5/17/2~ 12/31/~ True    True    153    \n",
      "\u001b[90m# ... with 5 more variables: GroundCover <chr>, HmsLatitude <chr>,\u001b[39m\n",
      "\u001b[90m#   HmsLongitude <chr>, ZipCodes <chr>, SitingDesc <chr>, and abbreviated\u001b[39m\n",
      "\u001b[90m#   variable names 1: RegionalOffice, 2: ConnectDate, 3: DisconnectDate,\u001b[39m\n",
      "\u001b[90m#   4: IsActive, 5: IsEtoStation, 6: Elevation\u001b[39m\n"
     ]
    }
   ],
   "source": [
    "station.meta = cimis_station(214)\n",
    "print(station.meta)"
   ]
  },
  {
   "cell_type": "code",
   "execution_count": 51,
   "metadata": {
    "vscode": {
     "languageId": "r"
    }
   },
   "outputs": [
    {
     "ename": "ERROR",
     "evalue": "Error: CIMIS query failed with status HTTP/1.1 400 Bad Request\n[ERR2112-DATA VOLUME VIOLATION]: The report request exceeds the maximum data limit of 1,750 records.\nYour request: 2,208 records.\nURL request: https://et.water.ca.gov/api/data?appKey=c7c54eaf-b82a-4cfd-8934-8448164a6d9a&targets=89&startDate=1992-09-05&endDate=1992-12-05&dataItems=hly-air-tmp,hly-dew-pnt,hly-eto,hly-net-rad,hly-asce-eto,hly-asce-etr,hly-precip,hly-rel-hum,hly-res-wind,hly-soil-tmp,hly-sol-rad,hly-vap-pres,hly-wind-dir,hly-wind-spd&unitOfMeasure=M&prioritizeSCS=Y\n",
     "output_type": "error",
     "traceback": [
      "Error: CIMIS query failed with status HTTP/1.1 400 Bad Request\n[ERR2112-DATA VOLUME VIOLATION]: The report request exceeds the maximum data limit of 1,750 records.\nYour request: 2,208 records.\nURL request: https://et.water.ca.gov/api/data?appKey=c7c54eaf-b82a-4cfd-8934-8448164a6d9a&targets=89&startDate=1992-09-05&endDate=1992-12-05&dataItems=hly-air-tmp,hly-dew-pnt,hly-eto,hly-net-rad,hly-asce-eto,hly-asce-etr,hly-precip,hly-rel-hum,hly-res-wind,hly-soil-tmp,hly-sol-rad,hly-vap-pres,hly-wind-dir,hly-wind-spd&unitOfMeasure=M&prioritizeSCS=Y\nTraceback:\n",
      "1. cimis_to_datetime(cimis_data(targets = 89, start.date = \"1992-09-05\", \n .     end.date = \"1992-12-05\", measure.unit = c(\"M\"), items = c(data_item[, \n .         2])))",
      "2. \"Hour\" %in% names(d)",
      "3. cimis_data(targets = 89, start.date = \"1992-09-05\", end.date = \"1992-12-05\", \n .     measure.unit = c(\"M\"), items = c(data_item[, 2]))",
      "4. basic_query(glue(\"{base.url}/data?\", \"appKey={authenv$appkey}\", \n .     \"&\", \"targets={str_c(targets, collapse = target.sep)}\", \"&\", \n .     \"startDate={start.date}\", \"&\", \"endDate={end.date}\", \"&\", \n .     \"dataItems={str_c(items, collapse = ',')}\", \"&\", \"unitOfMeasure={measure.unit}\", \n .     \"&\", \"prioritizeSCS={prioritize.SCS}\"))",
      "5. stop(\"CIMIS query failed with status \", parse_headers(result$headers)[1], \n .     \"\\n\", parse(text = rawToChar(result$content)), \"\\n\", \"URL request: \", \n .     result$url, call. = FALSE)"
     ]
    }
   ],
   "source": [
    "cimis_to_datetime(cimis_data(targets = 89, start.date = \"1992-09-05\", end.date = \"1992-12-05\", measure.unit = c('M'), items = c(data_item[,2])))"
   ]
  },
  {
   "cell_type": "code",
   "execution_count": null,
   "metadata": {
    "vscode": {
     "languageId": "r"
    }
   },
   "outputs": [],
   "source": []
  }
 ],
 "metadata": {
  "kernelspec": {
   "display_name": "R",
   "language": "R",
   "name": "ir"
  },
  "language_info": {
   "codemirror_mode": "r",
   "file_extension": ".r",
   "mimetype": "text/x-r-source",
   "name": "R",
   "pygments_lexer": "r",
   "version": "4.2.2"
  },
  "orig_nbformat": 4
 },
 "nbformat": 4,
 "nbformat_minor": 2
}
